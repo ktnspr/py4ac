{
 "cells": [
  {
   "cell_type": "markdown",
   "id": "ad76269b",
   "metadata": {},
   "source": [
    "### Series"
   ]
  },
  {
   "cell_type": "code",
   "execution_count": 1,
   "id": "184bda43",
   "metadata": {},
   "outputs": [
    {
     "name": "stdout",
     "output_type": "stream",
     "text": [
      "0    1\n",
      "1    2\n",
      "2    3\n",
      "dtype: int64\n",
      "a    1\n",
      "b    2\n",
      "c    3\n",
      "dtype: int64\n"
     ]
    }
   ],
   "source": [
    "import pandas as pd\n",
    "\n",
    "s1 = pd.Series([1, 2, 3])\n",
    "print(s1)\n",
    "# 0    1\n",
    "# 1    2\n",
    "# 2    3\n",
    "# dtype: int64\n",
    "\n",
    "s2 = pd.Series([1, 2, 3],\n",
    "                index=['a', 'b', 'c'])\n",
    "print(s2)\n",
    "# a    1\n",
    "# b    2\n",
    "# c    3\n",
    "# dtype: int64\n",
    "        "
   ]
  },
  {
   "cell_type": "code",
   "execution_count": 2,
   "id": "f2ca12e6",
   "metadata": {},
   "outputs": [
    {
     "name": "stdout",
     "output_type": "stream",
     "text": [
      "1\n",
      "1\n",
      "a    1\n",
      "b    2\n",
      "dtype: int64\n",
      "b    2\n",
      "c    3\n",
      "dtype: int64\n"
     ]
    },
    {
     "name": "stderr",
     "output_type": "stream",
     "text": [
      "/var/folders/pk/cwgxjc893d9149wsd8y22c9r0000gn/T/ipykernel_74161/319191456.py:6: FutureWarning: Series.__getitem__ treating keys as positions is deprecated. In a future version, integer keys will always be treated as labels (consistent with DataFrame behavior). To access a value by position, use `ser.iloc[pos]`\n",
      "  print(s2[0])\n"
     ]
    }
   ],
   "source": [
    "s2 = pd.Series([1, 2, 3],\n",
    "                index=['a', 'b', 'c'])\n",
    "print(s2['a'])\n",
    "# 1\n",
    "\n",
    "print(s2[0])\n",
    "# 1\n",
    "\n",
    "print(s2[['a', 'b']])\n",
    "# a    1\n",
    "# b    2\n",
    "# dtype: int64\n",
    "\n",
    "print(s2[s2 > 1])\n",
    "# b    2\n",
    "# c    3"
   ]
  },
  {
   "cell_type": "code",
   "execution_count": 3,
   "id": "82fc99ab",
   "metadata": {},
   "outputs": [
    {
     "name": "stdout",
     "output_type": "stream",
     "text": [
      "2.0\n",
      "1.0\n",
      "a     2.718282\n",
      "b     7.389056\n",
      "c    20.085537\n",
      "dtype: float64\n",
      "False\n"
     ]
    }
   ],
   "source": [
    "import numpy as np\n",
    "\n",
    "s2 = pd.Series([1, 2, 3], index=['a', 'b', 'c'])\n",
    "    \n",
    "print(s2.mean())\n",
    "# 2.0\n",
    "\n",
    "print(s2.std())\n",
    "# 1.0\n",
    "\n",
    "print(np.exp(s2))\n",
    "# a     2.718282\n",
    "# b     7.389056\n",
    "# c    20.085537\n",
    "# dtype: float64\n",
    "\n",
    "print(2 in s2)\n",
    "# True"
   ]
  },
  {
   "cell_type": "code",
   "execution_count": 4,
   "id": "1714f322",
   "metadata": {},
   "outputs": [
    {
     "name": "stdout",
     "output_type": "stream",
     "text": [
      "Stuttgart    100\n",
      "Karlsruhe    200\n",
      "Mannheim     300\n",
      "dtype: int64\n",
      "Karlsruhe    200.0\n",
      "Mannheim     300.0\n",
      "Stuttgart    100.0\n",
      "Heilbronn      NaN\n",
      "dtype: float64\n"
     ]
    }
   ],
   "source": [
    "sdata = {'Stuttgart': 100, 'Karlsruhe': 200, 'Mannheim': 300}\n",
    "s3 = pd.Series(sdata)\n",
    "print(s3)\n",
    "# Stuttgart    100\n",
    "# Karlsruhe    200\n",
    "# Mannheim     300\n",
    "# dtype: int64\n",
    "\n",
    "cities = ['Karlsruhe', 'Mannheim', 'Stuttgart', 'Heilbronn']\n",
    "s4 = pd.Series(sdata, index=cities)\n",
    "print(s4)\n",
    "# Karlsruhe    200.0\n",
    "# Mannheim     300.0\n",
    "# Stuttgart    100.0\n",
    "# Heilbronn      NaN\n",
    "# dtype: float64     --- Heilbronn is missing, results in NaN, which is a float!"
   ]
  },
  {
   "cell_type": "code",
   "execution_count": 5,
   "id": "092eebfb",
   "metadata": {},
   "outputs": [
    {
     "name": "stdout",
     "output_type": "stream",
     "text": [
      "Karlsruhe    False\n",
      "Mannheim     False\n",
      "Stuttgart    False\n",
      "Heilbronn     True\n",
      "dtype: bool\n",
      "Karlsruhe    200.0\n",
      "Mannheim     300.0\n",
      "Stuttgart    100.0\n",
      "dtype: float64\n"
     ]
    }
   ],
   "source": [
    "print(pd.isnull(s4))\n",
    "# Karlsruhe    False\n",
    "# Mannheim     False\n",
    "# Stuttgart    False\n",
    "# Heilbronn     True\n",
    "# dtype: bool\n",
    "\n",
    "print(s4[pd.notnull(s4)])\n",
    "# Karlsruhe    200.0\n",
    "# Mannheim     300.0\n",
    "# Stuttgart    100.0\n",
    "# dtype: float64"
   ]
  },
  {
   "cell_type": "code",
   "execution_count": 6,
   "id": "8e4d8576",
   "metadata": {},
   "outputs": [
    {
     "name": "stdout",
     "output_type": "stream",
     "text": [
      "a    NaN\n",
      "b    6.0\n",
      "c    8.0\n",
      "d    NaN\n",
      "dtype: float64\n",
      "a    1.0\n",
      "b    6.0\n",
      "c    8.0\n",
      "d    6.0\n",
      "dtype: float64\n"
     ]
    }
   ],
   "source": [
    "s5 = pd.Series([1, 2, 3], index=['a', 'b', 'c'])\n",
    "s6 = pd.Series([4, 5, 6], index=['b', 'c', 'd'])\n",
    "\n",
    "print(s5 + s6)                  # Missing values are turned into NaN\n",
    "# a    NaN\n",
    "# b    6.0\n",
    "# c    8.0\n",
    "# d    NaN\n",
    "\n",
    "print(s5.add(s6, fill_value=0)) # Fill missing values with 0\n",
    "# a    1.0\n",
    "# b    6.0\n",
    "# c    8.0\n",
    "# d    6.0"
   ]
  },
  {
   "cell_type": "code",
   "execution_count": 7,
   "id": "d74b0f73",
   "metadata": {},
   "outputs": [
    {
     "name": "stdout",
     "output_type": "stream",
     "text": [
      "letters\n",
      "a    1\n",
      "b    2\n",
      "c    3\n",
      "Name: numbers, dtype: int64\n"
     ]
    }
   ],
   "source": [
    "s7 = pd.Series([1, 2, 3], index=['a', 'b', 'c'])\n",
    "s7.name = 'numbers'\n",
    "s7.index.name = 'letters'\n",
    "print(s7)\n",
    "# letters\n",
    "# a    1\n",
    "# b    2\n",
    "# c    3\n",
    "# Name: numbers, dtype: int64"
   ]
  },
  {
   "cell_type": "markdown",
   "id": "917bc127",
   "metadata": {},
   "source": [
    "### DataFrame"
   ]
  },
  {
   "cell_type": "code",
   "execution_count": 8,
   "id": "d1a003bf",
   "metadata": {},
   "outputs": [
    {
     "name": "stdout",
     "output_type": "stream",
     "text": [
      "        city  population  area\n",
      "0  Stuttgart         100   100\n",
      "1  Karlsruhe         200   200\n",
      "2   Mannheim         300   300\n"
     ]
    }
   ],
   "source": [
    "data = {'city': ['Stuttgart', 'Karlsruhe', 'Mannheim', 'Heilbronn'],\n",
    "        'population': [100, 200, 300, 400],\n",
    "        'area': [100, 200, 300, 400]}\n",
    "\n",
    "df = pd.DataFrame(data)  # <-- 'df' is a commonly used variable name\n",
    "print(df.head(3))        # <-- displays the first 3 entries\n",
    "#         city  population  area\n",
    "# 0  Stuttgart         100   100\n",
    "# 1  Karlsruhe         200   200\n",
    "# 2   Mannheim         300   300"
   ]
  },
  {
   "cell_type": "code",
   "execution_count": 9,
   "id": "74cfeb9a",
   "metadata": {},
   "outputs": [
    {
     "name": "stdout",
     "output_type": "stream",
     "text": [
      "        city  area  population\n",
      "0  Stuttgart   100         100\n",
      "1  Karlsruhe   200         200\n",
      "2   Mannheim   300         300\n"
     ]
    }
   ],
   "source": [
    "data = {'city': ['Stuttgart', 'Karlsruhe', 'Mannheim', 'Heilbronn'],\n",
    "        'population': [100, 200, 300, 400],\n",
    "        'area': [100, 200, 300, 400]}\n",
    "\n",
    "df = pd.DataFrame(data, columns=['city', 'area', 'population'])\n",
    "print(df.head(3))\n",
    "#         city  area  population\n",
    "# 0  Stuttgart   100         100\n",
    "# 1  Karlsruhe   200         200\n",
    "# 2   Mannheim   300         300"
   ]
  },
  {
   "cell_type": "markdown",
   "id": "782347d1",
   "metadata": {},
   "source": [
    "### Reading and Writing CSV Files"
   ]
  },
  {
   "cell_type": "code",
   "execution_count": 10,
   "id": "11267b31",
   "metadata": {},
   "outputs": [
    {
     "name": "stdout",
     "output_type": "stream",
     "text": [
      "   Unnamed: 0    price  highway-mpg  city-mpg  peak-rpm  horsepower  \\\n",
      "0           0  13495.0           27        21    5000.0       111.0   \n",
      "1           1  16500.0           27        21    5000.0       111.0   \n",
      "2           2  16500.0           26        19    5000.0       154.0   \n",
      "\n",
      "   compression-ratio  stroke  bore fuel-system  ...  length  wheel-base  \\\n",
      "0                9.0    2.68  3.47        mpfi  ...   168.8        88.6   \n",
      "1                9.0    2.68  3.47        mpfi  ...   168.8        88.6   \n",
      "2                9.0    3.47  2.68        mpfi  ...   171.2        94.5   \n",
      "\n",
      "  engine-location  drive-wheels   body-style  num-of-doors  aspiration  \\\n",
      "0           front           rwd  convertible           2.0         std   \n",
      "1           front           rwd  convertible           2.0         std   \n",
      "2           front           rwd    hatchback           2.0         std   \n",
      "\n",
      "   fuel-type         make normalized-losses  \n",
      "0        gas  alfa-romero               NaN  \n",
      "1        gas  alfa-romero               NaN  \n",
      "2        gas  alfa-romero               NaN  \n",
      "\n",
      "[3 rows x 26 columns]\n"
     ]
    }
   ],
   "source": [
    "# Reading:\n",
    "df = pd.read_csv('automobile.csv')\n",
    "print(df.head(3))\n",
    "#Unnamed: 0    price  highway-mpg  city-mpg  peak-rpm  horsepower  \\\n",
    "#0           0  13495.0           27        21    5000.0       111.0   \n",
    "#1           1  16500.0           27        21    5000.0       111.0 \n",
    "# ...\n",
    "\n",
    "# Writing:\n",
    "df[['price', 'horsepower', 'fuel-type']].to_csv('automobile_price_hp_ft.csv')"
   ]
  },
  {
   "cell_type": "markdown",
   "id": "cbbe8016",
   "metadata": {},
   "source": [
    "### Accessing Rows and Columns"
   ]
  },
  {
   "cell_type": "code",
   "execution_count": 11,
   "id": "662c82ce",
   "metadata": {},
   "outputs": [
    {
     "name": "stdout",
     "output_type": "stream",
     "text": [
      "car1    13495.0\n",
      "car2    16500.0\n",
      "Name: price, dtype: float64\n",
      "car1    13495.0\n",
      "car2    16500.0\n",
      "Name: price, dtype: float64\n",
      "price         13495.0\n",
      "horsepower      111.0\n",
      "fuel-type         gas\n",
      "Name: car1, dtype: object\n",
      "price         13495.0\n",
      "horsepower      111.0\n",
      "fuel-type         gas\n",
      "Name: car1, dtype: object\n"
     ]
    }
   ],
   "source": [
    "df = pd.read_csv('automobile.csv')[['price', 'horsepower', 'fuel-type']].head(3)\n",
    "df.index = ['car1', 'car2', 'car3']  # Set custom index\n",
    "\n",
    "print(df['price'].head(2)) \n",
    "print(df.price.head(2))    # --> both variants are valid\n",
    "# car1    13495.0\n",
    "# car2    16500.0\n",
    "# Name: price, dtype: float64\n",
    "\n",
    "print(df.loc['car1'])      \n",
    "print(df.iloc[0])          # --> both variants are valid\n",
    "# price         13495.0\n",
    "# horsepower      111.0\n",
    "# fuel-type       gas"
   ]
  },
  {
   "cell_type": "markdown",
   "id": "58f8425b",
   "metadata": {},
   "source": [
    "### Reindexing"
   ]
  },
  {
   "cell_type": "code",
   "execution_count": 12,
   "id": "b4bf7975",
   "metadata": {},
   "outputs": [
    {
     "name": "stdout",
     "output_type": "stream",
     "text": [
      "          price  horsepower fuel-type\n",
      "car1    13495.0       111.0       gas\n",
      "car2    16500.0       111.0       gas\n",
      "car2.1      NaN         NaN       NaN\n",
      "car2.2      NaN         NaN       NaN\n",
      "car3    16500.0       154.0       gas\n"
     ]
    }
   ],
   "source": [
    "df = pd.read_csv('automobile.csv')[['price', 'horsepower', 'fuel-type']].head(3)\n",
    "df.index = ['car1', 'car2', 'car3']  # Set initial index\n",
    "\n",
    "df2 = df.reindex(['car1', 'car2', 'car2.1', 'car2.2', 'car3']) # Reindexing\n",
    "print(df2)\n",
    "#         price  horsepower fuel-type\n",
    "# car1  13495.0       111.0       gas\n",
    "# car2  16500.0       111.0       gas\n",
    "# car2.1      NaN         NaN       NaN\n",
    "# car2.2      NaN         NaN       NaN\n",
    "# car3  16500.0       154.0       gas"
   ]
  },
  {
   "cell_type": "code",
   "execution_count": 13,
   "id": "826c00cd",
   "metadata": {},
   "outputs": [
    {
     "name": "stdout",
     "output_type": "stream",
     "text": [
      "          price  horsepower fuel-type\n",
      "car1    13495.0       111.0       gas\n",
      "car2    16500.0       111.0       gas\n",
      "car2.1  16500.0       111.0       gas\n",
      "car2.2  16500.0       111.0       gas\n",
      "car3    16500.0       154.0       gas\n"
     ]
    }
   ],
   "source": [
    "df = pd.read_csv('automobile.csv')[['price', 'horsepower', 'fuel-type']].head(3)\n",
    "df.index = ['car1', 'car2', 'car3']  # Set index\n",
    "\n",
    "df2 = df.reindex(['car1', 'car2', 'car2.1', 'car2.2', 'car3'], method='ffill')\n",
    "print(df2)\n",
    "#         price  horsepower fuel-type\n",
    "# car1  13495.0       111.0       gas\n",
    "# car2  16500.0       111.0       gas\n",
    "# car2.1 16500.0       111.0       gas\n",
    "# car2.2 16500.0       111.0       gas\n",
    "# car3  16500.0       154.0       gas"
   ]
  },
  {
   "cell_type": "markdown",
   "id": "4b8b9bfb",
   "metadata": {},
   "source": [
    "### Dropping Rows and Columns"
   ]
  },
  {
   "cell_type": "code",
   "execution_count": 14,
   "id": "e9fb3e42",
   "metadata": {},
   "outputs": [],
   "source": [
    "df = pd.read_csv('automobile.csv')[['price', 'horsepower', 'fuel-type']].head(3)\n",
    "df.index = ['car1', 'car2', 'car3']             # Set index\n",
    "\n",
    "df2 = df.drop('car2')                           # Drop a single row\n",
    "df3 = df.drop('fuel-type', axis=1)              # Drop a single column\n",
    "df4 = df.drop(['car2', 'car3'])                 # Drop multiple rows\n",
    "df5 = df.drop(['price', 'horsepower'], axis=1)  # Drop multiple columns\n",
    "\n",
    "df.drop('car2', inplace=True)                   # Modify DataFrame in place"
   ]
  },
  {
   "cell_type": "markdown",
   "id": "271828db",
   "metadata": {},
   "source": [
    "### Slicing with Labels and Positions"
   ]
  },
  {
   "cell_type": "code",
   "execution_count": 15,
   "id": "7ce5ade3",
   "metadata": {},
   "outputs": [
    {
     "name": "stdout",
     "output_type": "stream",
     "text": [
      "        price  horsepower\n",
      "car1  13495.0       111.0\n",
      "car2  16500.0       111.0\n",
      "        price  horsepower\n",
      "car1  13495.0       111.0\n",
      "car2  16500.0       111.0\n"
     ]
    }
   ],
   "source": [
    "df = pd.read_csv('automobile.csv')[['price', 'horsepower', 'fuel-type']].head(3)\n",
    "df.index = ['car1', 'car2', 'car3']  # Set index\n",
    "\n",
    "print(df.loc['car1':'car2', 'price':'horsepower'])\n",
    "print(df.iloc[0:2, 0:2])     # --> both variants are valid\n",
    "#         price  horsepower\n",
    "# car1  13495.0       111.0\n",
    "# car2  16500.0       111.0"
   ]
  },
  {
   "cell_type": "markdown",
   "id": "1720f4df",
   "metadata": {},
   "source": [
    "### Function Application"
   ]
  },
  {
   "cell_type": "code",
   "execution_count": 16,
   "id": "47e06e5e",
   "metadata": {},
   "outputs": [
    {
     "name": "stdout",
     "output_type": "stream",
     "text": [
      "        price  horsepower\n",
      "0   -0.958599   -0.864551\n",
      "1    0.347950   -0.864551\n",
      "2    0.347950   -0.061920\n",
      "3    0.970818    0.994827\n",
      "4    0.999721    0.945435\n",
      "..        ...         ...\n",
      "200 -0.218043    0.784980\n",
      "201  0.617322    0.219425\n",
      "202  0.344924    0.885925\n",
      "203  0.970991   -0.727143\n",
      "204 -0.681852    0.784980\n",
      "\n",
      "[205 rows x 2 columns]\n",
      "price         13207.129353\n",
      "horsepower      104.256158\n",
      "dtype: float64\n",
      "       price  horsepower\n",
      "0    13495.0       111.0\n",
      "1    16500.0       111.0\n",
      "2    16500.0       154.0\n",
      "3    13950.0       102.0\n",
      "4    17450.0       115.0\n",
      "..       ...         ...\n",
      "200  16845.0       114.0\n",
      "201  19045.0       160.0\n",
      "202  21485.0       134.0\n",
      "203  22470.0       106.0\n",
      "204  22625.0       114.0\n",
      "\n",
      "[205 rows x 2 columns]\n",
      "price         40282.0\n",
      "horsepower      240.0\n",
      "dtype: float64\n"
     ]
    },
    {
     "name": "stderr",
     "output_type": "stream",
     "text": [
      "/var/folders/pk/cwgxjc893d9149wsd8y22c9r0000gn/T/ipykernel_74161/3563110743.py:10: FutureWarning: DataFrame.applymap has been deprecated. Use DataFrame.map instead.\n",
      "  print(df.applymap(np.mean))\n"
     ]
    }
   ],
   "source": [
    "df = pd.read_csv('automobile.csv')[['price', 'horsepower']]\n",
    "\n",
    "print(df.apply(np.sin))\n",
    "# (two columns with sine values - only numeric values)\n",
    "\n",
    "print(df.apply(np.mean))\n",
    "# price       13207.129353\n",
    "# horsepower    103.481865   # column means\n",
    "\n",
    "print(df.applymap(np.mean))\n",
    "# (means of individual values – does not make sense)\n",
    "\n",
    "print(df.apply(lambda x: x.max() - x.min()))\n",
    "# price       40282.0\n",
    "# horsepower    240.0   # range"
   ]
  },
  {
   "cell_type": "markdown",
   "id": "03c33bf7",
   "metadata": {},
   "source": [
    "### Function Application"
   ]
  },
  {
   "cell_type": "code",
   "execution_count": 17,
   "id": "62c888f3",
   "metadata": {},
   "outputs": [
    {
     "name": "stdout",
     "output_type": "stream",
     "text": [
      "          price horsepower\n",
      "car1  13,495.00     111.00\n",
      "car2  16,500.00     111.00\n",
      "car3  16,500.00     154.00\n"
     ]
    },
    {
     "name": "stderr",
     "output_type": "stream",
     "text": [
      "/var/folders/pk/cwgxjc893d9149wsd8y22c9r0000gn/T/ipykernel_74161/16542580.py:4: FutureWarning: DataFrame.applymap has been deprecated. Use DataFrame.map instead.\n",
      "  print(df.applymap(lambda x: f'{x:,.2f}'))\n"
     ]
    }
   ],
   "source": [
    "df = pd.read_csv('automobile.csv')[['price', 'horsepower']].head(3)\n",
    "df.index = ['car1', 'car2', 'car3']  # Set index\n",
    "\n",
    "print(df.applymap(lambda x: f'{x:,.2f}'))\n",
    "#         price horsepower\n",
    "# car1  13,495.00     111.00\n",
    "# car2  16,500.00     111.00\n",
    "# car3  16,500.00     154.00"
   ]
  },
  {
   "cell_type": "markdown",
   "id": "667849fd",
   "metadata": {},
   "source": [
    "### Sorting"
   ]
  },
  {
   "cell_type": "code",
   "execution_count": 18,
   "id": "36887bb7",
   "metadata": {},
   "outputs": [
    {
     "name": "stdout",
     "output_type": "stream",
     "text": [
      "        price  horsepower\n",
      "car3  16500.0       154.0\n",
      "car2  16500.0       111.0\n",
      "car1  13495.0       111.0\n",
      "        price  horsepower\n",
      "car1  13495.0       111.0\n",
      "car2  16500.0       111.0\n",
      "car3  16500.0       154.0\n"
     ]
    }
   ],
   "source": [
    "df = pd.read_csv('automobile.csv')[\n",
    "    ['price', 'horsepower']].head(3)\n",
    "df.index = ['car1', 'car2', 'car3']  # Set index\n",
    "\n",
    "print(df.sort_index(ascending=False))\n",
    "#         price  horsepower\n",
    "# car3  16500.0       154.0\n",
    "# car2  16500.0       111.0\n",
    "# car1  13495.0       111.0\n",
    "\n",
    "print(df.sort_values(by='price'))\n",
    "#         price  horsepower\n",
    "# car1  13495.0       111.0\n",
    "# car2  16500.0       111.0\n",
    "# car3  16500.0       154.0"
   ]
  },
  {
   "cell_type": "markdown",
   "id": "60e263f2",
   "metadata": {},
   "source": [
    "### Grouping"
   ]
  },
  {
   "cell_type": "code",
   "execution_count": 19,
   "id": "b16ada65",
   "metadata": {},
   "outputs": [
    {
     "name": "stdout",
     "output_type": "stream",
     "text": [
      "                 price\n",
      "fuel-type             \n",
      "diesel     15838.15000\n",
      "gas        12916.40884\n"
     ]
    }
   ],
   "source": [
    "df = pd.read_csv('automobile.csv')\n",
    "print(df[['price','fuel-type']].groupby('fuel-type').mean())"
   ]
  },
  {
   "cell_type": "code",
   "execution_count": 20,
   "id": "e7fabbb5",
   "metadata": {},
   "outputs": [
    {
     "name": "stdout",
     "output_type": "stream",
     "text": [
      "                 price\n",
      "fuel-type             \n",
      "diesel     15838.15000\n",
      "gas        12916.40884\n",
      "Index(['diesel', 'gas'], dtype='object', name='fuel-type')\n",
      "fuel-type\n",
      "Index(['price'], dtype='object')\n"
     ]
    }
   ],
   "source": [
    "df = pd.read_csv('automobile.csv')[['price','fuel-type']].groupby('fuel-type').mean()\n",
    "\n",
    "print(df)            #                  price\n",
    "                     # fuel-type               \n",
    "                     # diesel     15838.15000\n",
    "                     # gas        12916.40884\n",
    "\n",
    "print(df.index)      # Index(['diesel', 'gas'], dtype='object', name='fuel-type')\n",
    "\n",
    "print(df.index.name) # fuel-type\n",
    "\n",
    "print(df.columns)    # Index(['price'], dtype='object')"
   ]
  },
  {
   "cell_type": "code",
   "execution_count": 21,
   "id": "0cc4ad57",
   "metadata": {},
   "outputs": [
    {
     "name": "stdout",
     "output_type": "stream",
     "text": [
      "<pandas.core.groupby.generic.DataFrameGroupBy object at 0x105ff6ed0>\n",
      "Fuel type: diesel\n",
      "      price fuel-type aspiration\n",
      "63  10795.0    diesel        std\n",
      "66  18344.0    diesel        std\n",
      "Fuel type: gas\n",
      "     price fuel-type aspiration\n",
      "0  13495.0       gas        std\n",
      "1  16500.0       gas        std\n"
     ]
    }
   ],
   "source": [
    "df = pd.read_csv('automobile.csv')[['price', 'fuel-type', 'aspiration']]\n",
    "grouped = df.groupby('fuel-type')\n",
    "print(grouped) # <pandas.core.groupby.generic.SeriesGroupBy object at 0x7f8b3b7b3d30>\n",
    "for name, group in grouped:\n",
    "    print(f\"Fuel type: {name}\") # \n",
    "    print(group.head(2))\n",
    "\n",
    "#Fuel type: diesel\n",
    "#      price fuel-type aspiration\n",
    "#63  10795.0    diesel        std\n",
    "#66  18344.0    diesel        std\n",
    "\n",
    "#Fuel type: gas\n",
    "#     price fuel-type aspiration\n",
    "#0  13495.0       gas        std\n",
    "#1  16500.0       gas        std"
   ]
  },
  {
   "cell_type": "code",
   "execution_count": 22,
   "id": "503c77bd",
   "metadata": {},
   "outputs": [
    {
     "name": "stdout",
     "output_type": "stream",
     "text": [
      "                                          price\n",
      "fuel-type aspiration num-of-doors              \n",
      "diesel    std        2.0            7437.000000\n",
      "                     4.0           10506.250000\n",
      "          turbo      2.0           28176.000000\n",
      "                     4.0           18407.750000\n",
      "gas       std        2.0           12727.887324\n",
      "                     4.0           12621.678161\n",
      "          turbo      2.0           12969.083333\n",
      "                     4.0           17191.700000\n"
     ]
    }
   ],
   "source": [
    "df = pd.read_csv('automobile.csv')[['price', 'fuel-type', 'aspiration', 'num-of-doors']]\n",
    "grouped = df.groupby(['fuel-type', 'aspiration', 'num-of-doors'])\n",
    "print(grouped.mean())\n",
    "\n",
    "#                                           price\n",
    "# fuel-type aspiration num-of-doors              \n",
    "# diesel    std        2.0            7437.000000\n",
    "#                      4.0           10506.250000\n",
    "#           turbo      2.0           28176.000000\n",
    "#                      4.0           18407.750000\n",
    "# gas       std        2.0           12727.887324\n",
    "#                      4.0           12621.678161\n",
    "#           turbo      2.0           12969.083333\n",
    "#                      4.0           17191.70000"
   ]
  },
  {
   "cell_type": "markdown",
   "id": "dc6dfd23",
   "metadata": {},
   "source": [
    "### Aggregation\n",
    "\n",
    "Brief demonstration code from the *Aggregation* subsection."
   ]
  },
  {
   "cell_type": "code",
   "execution_count": 23,
   "id": "cae5c692",
   "metadata": {},
   "outputs": [
    {
     "name": "stdout",
     "output_type": "stream",
     "text": [
      "             price\n",
      "fuel-type         \n",
      "diesel     24501.0\n",
      "gas        40282.0\n"
     ]
    }
   ],
   "source": [
    "df = pd.read_csv('automobile.csv')[['price', 'fuel-type']]\n",
    "grouped = df.groupby('fuel-type')\n",
    "print(grouped.agg(lambda x: x.max() - x.min()))"
   ]
  },
  {
   "cell_type": "code",
   "execution_count": 24,
   "id": "f9ebd10c",
   "metadata": {},
   "outputs": [
    {
     "name": "stdout",
     "output_type": "stream",
     "text": [
      "fuel-type            diesel           gas\n",
      "make                                     \n",
      "alfa-romero             NaN  15498.333333\n",
      "audi                    NaN  17859.166667\n",
      "bmw                     NaN  26118.750000\n",
      "chevrolet               NaN   6007.000000\n",
      "dodge                   NaN   7875.444444\n",
      "honda                   NaN   8184.692308\n",
      "isuzu                   NaN   8916.500000\n",
      "jaguar                  NaN  34600.000000\n",
      "mazda          14569.500000  10130.666667\n",
      "mercedes-benz  28394.000000  38900.000000\n",
      "mercury                 NaN  16503.000000\n",
      "mitsubishi              NaN   9239.769231\n",
      "nissan          7099.000000  10610.764706\n",
      "peugot         15797.000000  15232.500000\n",
      "plymouth                NaN   7963.428571\n",
      "porsche                 NaN  31400.500000\n",
      "renault                 NaN   9595.000000\n",
      "saab                    NaN  15223.333333\n",
      "subaru                  NaN   8541.250000\n",
      "toyota          8794.666667   9998.689655\n",
      "volkswagen      9777.500000  10227.500000\n",
      "volvo          22470.000000  17622.500000\n"
     ]
    }
   ],
   "source": [
    "df = pd.read_csv('automobile.csv')[['price', 'make', 'fuel-type']]\n",
    "print(df.pivot_table(index='make', columns='fuel-type', values='price', aggfunc='mean'))\n"
   ]
  },
  {
   "cell_type": "markdown",
   "id": "ff5b5b3c",
   "metadata": {},
   "source": [
    "### Hierarchical Indexing"
   ]
  },
  {
   "cell_type": "code",
   "execution_count": 25,
   "id": "877064cd",
   "metadata": {},
   "outputs": [
    {
     "name": "stdout",
     "output_type": "stream",
     "text": [
      "              price         make fuel-type\n",
      "car  color                                \n",
      "car1 blue   13495.0  alfa-romero       gas\n",
      "car2 red    16500.0  alfa-romero       gas\n",
      "car3 blue   16500.0  alfa-romero       gas\n",
      "car4 red    13950.0         audi       gas\n",
      "car5 blue   17450.0         audi       gas\n"
     ]
    }
   ],
   "source": [
    "df = pd.read_csv('automobile.csv')[['price', 'make', 'fuel-type']].head(5)\n",
    "# set new index\n",
    "df.index = [['car1', 'car2', 'car3', 'car4', 'car5'],\n",
    "            ['blue', 'red', 'blue', 'red', 'blue']]\n",
    "df.index.names = ['car', 'color']  # note the plural: 'names'!!!\n",
    "\n",
    "print(df)\n",
    "#             price         make fuel-type\n",
    "# car  color\n",
    "# car1 blue   13495  alfa-romero       gas\n",
    "# car2 red    16500  alfa-romero       gas\n",
    "# ..."
   ]
  },
  {
   "cell_type": "code",
   "execution_count": 26,
   "id": "2fc8707b",
   "metadata": {},
   "outputs": [
    {
     "name": "stdout",
     "output_type": "stream",
     "text": [
      "         price                  make              fuel-type     \n",
      "color     blue      red         blue          red      blue  red\n",
      "car                                                             \n",
      "car1   13495.0      NaN  alfa-romero          NaN       gas  NaN\n",
      "car2       NaN  16500.0          NaN  alfa-romero       NaN  gas\n",
      "car3   16500.0      NaN  alfa-romero          NaN       gas  NaN\n",
      "car4       NaN  13950.0          NaN         audi       NaN  gas\n",
      "car5   17450.0      NaN         audi          NaN       gas  NaN\n"
     ]
    }
   ],
   "source": [
    "df = pd.read_csv('automobile.csv')[['price', 'make', 'fuel-type']].head(5)\n",
    "df.index = [['car1', 'car2', 'car3', 'car4', 'car5'],\n",
    "            ['blue', 'red', 'blue', 'red', 'blue']]\n",
    "df.index.names = ['car', 'color']\n",
    "\n",
    "print(df.unstack())\n",
    "#         price                  make                   fuel-type     \n",
    "#color     blue      red         blue          red      blue  red\n",
    "#car                                                             \n",
    "#car1   13495.0      NaN  alfa-romero          NaN       gas  NaN\n",
    "#car2       NaN  16500.0          NaN  alfa-romero       NaN  gas\n",
    "#..."
   ]
  },
  {
   "cell_type": "code",
   "execution_count": 27,
   "id": "e55ddcc9",
   "metadata": {},
   "outputs": [
    {
     "name": "stdout",
     "output_type": "stream",
     "text": [
      "car   color           \n",
      "car1  blue   price            13495.0\n",
      "             make         alfa-romero\n",
      "             fuel-type            gas\n",
      "car2  red    price            16500.0\n",
      "             make         alfa-romero\n",
      "             fuel-type            gas\n",
      "car3  blue   price            16500.0\n",
      "             make         alfa-romero\n",
      "             fuel-type            gas\n",
      "car4  red    price            13950.0\n",
      "             make                audi\n",
      "             fuel-type            gas\n",
      "car5  blue   price            17450.0\n",
      "             make                audi\n",
      "             fuel-type            gas\n",
      "dtype: object\n"
     ]
    },
    {
     "data": {
      "text/plain": [
       "Ellipsis"
      ]
     },
     "execution_count": 27,
     "metadata": {},
     "output_type": "execute_result"
    }
   ],
   "source": [
    "df = pd.read_csv('automobile.csv')[['price', 'make', 'fuel-type']].head(5)\n",
    "df.index = [['car1', 'car2', 'car3', 'car4', 'car5'],\n",
    "            ['blue', 'red', 'blue', 'red', 'blue']]\n",
    "df.index.names = ['car', 'color']\n",
    "\n",
    "print(df.stack())\n",
    "#car   color           \n",
    "#car1  blue   price            13495.0\n",
    "#             make         alfa-romero\n",
    "#             fuel-type            gas\n",
    "#car2  red    price            16500.0\n",
    "#             make         alfa-romero\n",
    "#             fuel-type            gas\n",
    "..."
   ]
  },
  {
   "cell_type": "markdown",
   "id": "a4ef217c",
   "metadata": {},
   "source": [
    "### Multiple Aggregation Functions"
   ]
  },
  {
   "cell_type": "code",
   "execution_count": 28,
   "id": "2ae72dfb",
   "metadata": {},
   "outputs": [],
   "source": [
    "#                     mean                        std              \n",
    "#fuel-type          diesel           gas       diesel           gas\n",
    "#body-style                                                        \n",
    "#convertible           NaN  21890.500000          NaN  11187.802193\n",
    "#hardtop      28176.000000  21356.000000          NaN  15504.536648\n",
    "#hatchback     7788.000000   9989.820896          NaN   4171.510928\n",
    "#sedan        14774.400000  14400.012658  7322.373462   8773.202490\n",
    "#wagon        19727.666667  11368.909091  7551.894884   3969.303848"
   ]
  }
 ],
 "metadata": {
  "kernelspec": {
   "display_name": "venv_viz",
   "language": "python",
   "name": "python3"
  },
  "language_info": {
   "codemirror_mode": {
    "name": "ipython",
    "version": 3
   },
   "file_extension": ".py",
   "mimetype": "text/x-python",
   "name": "python",
   "nbconvert_exporter": "python",
   "pygments_lexer": "ipython3",
   "version": "3.11.7"
  }
 },
 "nbformat": 4,
 "nbformat_minor": 5
}
