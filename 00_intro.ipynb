{
 "cells": [
  {
   "cell_type": "markdown",
   "metadata": {},
   "source": [
    "# Python for Actuaries\n",
    "\n",
    "## Seminar Agenda\n",
    "\n",
    "- Basics of Python\n",
    "    - Variables, Control Structures, Functions, Objects\n",
    "- Data Structures\n",
    "    - Lists, Tuples, Sets, Dictionaries\n",
    "- File Operations\n",
    "- Data Analysis with Pandas (Data Manipulation)\n",
    "- Data Visualization (Matplotlib)\n",
    "- Introduction to Machine Learning\n",
    "\n",
    "## Instructors\n",
    "Prof. Dr. Alexander Brandt\n",
    "\n",
    "Email: alexander.brandt@dhbw-stuttgart.de\n",
    "\n",
    "Prof. Dr. Jonas Offtermatt\n",
    "\n",
    "Email: jonas.offtermatt@dhbw-stuttgart.de\n",
    "\n",
    "## Literature\n",
    "- The Python Tutorial [docs.python.org](https://docs.python.org/3/)\n",
    "- Eric Matthes, Python Crash Course, No Starch Press\n",
    "- Wes McKinney, Python for Data Analysis, O'Reilly\n",
    "\n",
    "## Typical Unit\n",
    "Some of the lectures will be provided and conducted in the form of Jupyter Notebooks ([jupyter.org](https://jupyter.org)). The goal is to program together, and there will also be exercises for each unit that you will need to work on during the lecture.\n",
    "\n",
    "## Why Python?\n",
    "Python ...\n",
    "\n",
    "- is *interpreted*\n",
    "- is *dynamically typed* (as opposed to statically typed)\n",
    "- is *automatically memory-managed*\n",
    "- supports *procedural*, *object-oriented*, *imperative*, and *functional* programming paradigms\n",
    "- was (mostly) developed by a single person: [Guido van Rossum](https://gvanrossum.github.io/) (also known as the \"benevolent dictator\"), and therefore has a quite *opinionated* design\n",
    "- has a single reference implementation (CPython)\n",
    "- Version 3 (the latest version) is *not backward compatible* with Version 2, although the latter is still widely used\n",
    "- has an interesting programming philosophy: \"There should be one — and preferably only one — obvious way to do it.\" (a.k.a. the \"Pythonic\" way) — see [The Zen of Python](https://www.python.org/dev/peps/pep-0020/)\n",
    "\n",
    "# In case you are still wondering why:\n",
    "\n",
    "https://xkcd.com/353/"
   ]
  }
 ],
 "metadata": {
  "kernelspec": {
   "display_name": "Python 3",
   "language": "python",
   "name": "python3"
  },
  "language_info": {
   "codemirror_mode": {
    "name": "ipython",
    "version": 3
   },
   "file_extension": ".py",
   "mimetype": "text/x-python",
   "name": "python",
   "nbconvert_exporter": "python",
   "pygments_lexer": "ipython3",
   "version": "3.11.9"
  }
 },
 "nbformat": 4,
 "nbformat_minor": 2
}
