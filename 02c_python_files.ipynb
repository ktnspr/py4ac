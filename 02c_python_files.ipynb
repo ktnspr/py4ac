{
 "cells": [
  {
   "cell_type": "markdown",
   "metadata": {},
   "source": [
    "# Python for Actuaries Part 2\n",
    "\n",
    "[![Open In Colab](https://colab.research.google.com/assets/colab-badge.svg)](https://colab.research.google.com/github/DeutscheAktuarvereinigung/Python_fuer_Aktuare/blob/main/02c_python_files.ipynb) [![Kaggle](https://kaggle.com/static/images/open-in-kaggle.svg)](https://kaggle.com/kernels/welcome?src=https://github.com/DeutscheAktuarvereinigung/Python_fuer_Aktuare/blob/main/02c_python_files.ipynb)\n",
    "## Agenda\n",
    "In this notebook, we will cover:\n",
    "- File operations\n",
    "     - Opening files\n",
    "     - Reading files\n",
    "     - Writing files\n",
    "\n",
    "# File Operations in Python\n",
    "\n",
    "In Python, we can easily work with files, whether for reading data or writing information. Working with files involves three steps:\n",
    "\n",
    "1. **Opening** the file: We can open a file using the `open()` function to read or write.\n",
    "2. **Reading or Writing**: Once the file is opened, we can perform the desired operations.\n",
    "3. **Closing** the file: After the operations are completed, the file is closed to free up resources.\n",
    "\n",
    "### Basic File Operations:\n",
    "- **Reading a file**: We can read the contents of a file using `read()` or `readline()`.\n",
    "- **Writing to a file**: We can write text to a file using `write()`.\n",
    "- **Handling file paths**: Absolute and relative paths can be used to save or open files in different locations.\n",
    "\n",
    "## Code Examples:\n",
    "\n",
    "### 1. Reading a File\n",
    "In this example, the contents of a text file are read in their entirety.\n",
    "\n",
    "```python\n",
    "# Opening a file in read mode ('r')\n",
    "with open('example.txt', 'r') as file:\n",
    "    content = file.read()  # Read the entire content\n",
    "    print(content)\n",
    "```"
   ]
  },
  {
   "cell_type": "markdown",
   "metadata": {},
   "source": [
    "### 2. Writing to a File\n",
    "\n",
    "To write text to a file, we open the file in write mode 'w'."
   ]
  },
  {
   "cell_type": "code",
   "execution_count": null,
   "metadata": {},
   "outputs": [],
   "source": [
    "# Opening a file in write mode ('w')\n",
    "pass\n"
   ]
  },
  {
   "cell_type": "markdown",
   "metadata": {},
   "source": [
    "### 3. Reading a File Line by Line\n",
    "Sometimes it is more efficient to read the file line by line."
   ]
  },
  {
   "cell_type": "code",
   "execution_count": null,
   "metadata": {},
   "outputs": [],
   "source": [
    "# opening a file in read mode ('r')\n",
    "pass\n"
   ]
  },
  {
   "cell_type": "markdown",
   "metadata": {},
   "source": [
    "### 4. Handling File Paths\n",
    "\n",
    "We can also write and read files in locations other than the current folder:"
   ]
  },
  {
   "cell_type": "code",
   "execution_count": null,
   "metadata": {},
   "outputs": [],
   "source": [
    "# writing to a file in folder\n",
    "pass"
   ]
  },
  {
   "cell_type": "code",
   "execution_count": null,
   "metadata": {},
   "outputs": [],
   "source": [
    "# reading from a file in folder\n",
    "pass\n"
   ]
  }
 ],
 "metadata": {
  "kernelspec": {
   "display_name": "Python 3",
   "language": "python",
   "name": "python3"
  },
  "language_info": {
   "codemirror_mode": {
    "name": "ipython",
    "version": 3
   },
   "file_extension": ".py",
   "mimetype": "text/x-python",
   "name": "python",
   "nbconvert_exporter": "python",
   "pygments_lexer": "ipython3",
   "version": "3.11.9"
  }
 },
 "nbformat": 4,
 "nbformat_minor": 2
}
