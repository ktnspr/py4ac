{
 "cells": [
  {
   "cell_type": "markdown",
   "metadata": {},
   "source": [
    "# Python for Actuaries Part 1\n",
    "[![Open In Colab](https://colab.research.google.com/assets/colab-badge.svg)](https://colab.research.google.com/github/DeutscheAktuarvereinigung/Python_fuer_Aktuare/blob/main/01b_python_basics.ipynb) [![Kaggle](https://kaggle.com/static/images/open-in-kaggle.svg)](https://kaggle.com/kernels/welcome?src=https://github.com/DeutscheAktuarvereinigung/Python_fuer_Aktuare/blob/main/01b_python_basics.ipynb)\n",
    "\n",
    "## Agenda\n",
    "In this notebook, we will cover:\n",
    "- Definition and calling of functions\n",
    "- Parameters and return values\n",
    "- Introduction to lambda functions\n",
    "- Importing and using modules\n",
    "- Memory management in Python"
   ]
  },
  {
   "cell_type": "markdown",
   "metadata": {},
   "source": [
    "## Functions in Python\n",
    "\n",
    "A function is a block-organized section of code that performs a specific task. Functions help to modularize the code, make it reusable, and improve clarity. They allow complex programs to be broken down into smaller, more manageable, and reusable parts.\n",
    "\n",
    "By using functions, one can avoid redundancies in the code and make the development process more efficient. Instead of writing the same code multiple times, you define a function and call it as needed."
   ]
  },
  {
   "cell_type": "code",
   "execution_count": null,
   "metadata": {},
   "outputs": [],
   "source": [
    "# simple function doing nothing\n",
    "def foo():\n",
    "    pass"
   ]
  },
  {
   "cell_type": "code",
   "execution_count": null,
   "metadata": {},
   "outputs": [],
   "source": [
    "# code which we write one time and use many times\n",
    "\n",
    "# Definition of the function\n",
    "def greet():\n",
    "    print(\"Hi, welcome to Python!\")\n",
    "\n",
    "# function call\n",
    "greet()\n",
    "greet()\n",
    "greet()\n"
   ]
  },
  {
   "cell_type": "markdown",
   "metadata": {},
   "source": [
    "### Parameters and Return Value\n",
    "Functions become interesting only when we pass them something to work with and then process the return value `return`."
   ]
  },
  {
   "cell_type": "code",
   "execution_count": null,
   "metadata": {},
   "outputs": [],
   "source": [
    "# simple with return value\n",
    "def addition(a, b):\n",
    "    return a + b"
   ]
  },
  {
   "cell_type": "code",
   "execution_count": null,
   "metadata": {},
   "outputs": [],
   "source": [
    "addition(1,1)\n",
    "# Attention! No type checking in Python. \n",
    "# Try addition(\"apples\", \"oranges\") and see what happens."
   ]
  },
  {
   "cell_type": "code",
   "execution_count": null,
   "metadata": {},
   "outputs": [],
   "source": [
    "import math\n",
    "\n",
    "def quadratic_roots(a, b, c):\n",
    "    disc = b**2-4*a*c\n",
    "    if disc < 0:\n",
    "        return None\n",
    "    else:\n",
    "        return (-b+math.sqrt(disc))/(2*a), (-b-math.sqrt(disc))/(2*a)"
   ]
  },
  {
   "cell_type": "code",
   "execution_count": null,
   "metadata": {},
   "outputs": [],
   "source": [
    "quadratic_roots(1, -5, 6) # eq = (x-3)(x-2) = x^2 -5x + 6"
   ]
  },
  {
   "cell_type": "code",
   "execution_count": null,
   "metadata": {},
   "outputs": [],
   "source": [
    "quadratic_roots(a=1, b=-5, c=6)"
   ]
  },
  {
   "cell_type": "code",
   "execution_count": null,
   "metadata": {},
   "outputs": [],
   "source": [
    "quadratic_roots(c=6, a=1, b=-5)"
   ]
  },
  {
   "cell_type": "code",
   "execution_count": null,
   "metadata": {},
   "outputs": [],
   "source": [
    "def create_character(name, race, hitpoints, ability):\n",
    "    print('Name:', name)\n",
    "    print('Race:', race)\n",
    "    print('Hitpoints:', hitpoints)\n",
    "    print('Ability:', ability)"
   ]
  },
  {
   "cell_type": "code",
   "execution_count": null,
   "metadata": {},
   "outputs": [],
   "source": [
    "create_character('Legolas', 'Elf', 100, 'Archery')"
   ]
  },
  {
   "cell_type": "markdown",
   "metadata": {},
   "source": [
    "Standard values for transfer parameters"
   ]
  },
  {
   "cell_type": "code",
   "execution_count": null,
   "metadata": {},
   "outputs": [],
   "source": [
    "def create_character(name, race='Human', hitpoints=100, ability=None):\n",
    "    print('Name:', name)\n",
    "    print('Race:', race)\n",
    "    print('Hitpoints:', hitpoints)\n",
    "    if ability:\n",
    "        print('Ability:', ability)"
   ]
  },
  {
   "cell_type": "code",
   "execution_count": null,
   "metadata": {},
   "outputs": [],
   "source": [
    "create_character('Jonas')"
   ]
  },
  {
   "cell_type": "code",
   "execution_count": null,
   "metadata": {},
   "outputs": [],
   "source": [
    "def create_character(name, race='Human', hitpoints=100, abilities=()):\n",
    "    print('Name:', name)\n",
    "    print('Race:', race)\n",
    "    print('Hitpoints:', hitpoints)\n",
    "    if abilities:\n",
    "        print('Abilities:')\n",
    "        for ability in abilities:\n",
    "            print('  -', ability)"
   ]
  },
  {
   "cell_type": "code",
   "execution_count": null,
   "metadata": {},
   "outputs": [],
   "source": [
    "create_character('Gimli', race='Dwarf')"
   ]
  },
  {
   "cell_type": "code",
   "execution_count": null,
   "metadata": {},
   "outputs": [],
   "source": [
    "create_character('Gandalf', hitpoints=1000)"
   ]
  },
  {
   "cell_type": "code",
   "execution_count": null,
   "metadata": {},
   "outputs": [],
   "source": [
    "create_character('Aragorn', abilities=('Swording', 'Healing'))"
   ]
  },
  {
   "cell_type": "markdown",
   "metadata": {},
   "source": [
    "Any number of parameters"
   ]
  },
  {
   "cell_type": "code",
   "execution_count": 8,
   "metadata": {},
   "outputs": [],
   "source": [
    "def create_character(name, *abilities, race='Human', hitpoints=100):\n",
    "    print('Name:', name)\n",
    "    print('Race:', race)\n",
    "    print('Hitpoints:', hitpoints)\n",
    "    if abilities:\n",
    "        print('Abilities:')\n",
    "        for ability in abilities:\n",
    "            print('  -', ability)"
   ]
  },
  {
   "cell_type": "code",
   "execution_count": null,
   "metadata": {},
   "outputs": [],
   "source": [
    "create_character('Jonas')"
   ]
  },
  {
   "cell_type": "code",
   "execution_count": null,
   "metadata": {},
   "outputs": [],
   "source": [
    "create_character('Jonas', 'Coding', 'Teaching', 'Sleeping', hitpoints=25, )"
   ]
  },
  {
   "cell_type": "markdown",
   "metadata": {},
   "source": [
    "# Tasks\n",
    "\n",
    "## Task 1: Premium Calculation\n",
    "\n",
    "Write a function `calculate_premium` that calculates the premium for an insurance policy. The function should accept the following parameters:\n",
    "\n",
    "- `sum_insured`: The insured sum (in Euros)\n",
    "- `risk_factor`: A risk factor (e.g., 1.2 for increased risk)\n",
    "- `base_premium`: A base premium (in Euros)\n",
    "\n",
    "The function should calculate the premium using the formula `premium = sum_insured * risk_factor * base_premium` and return it.\n",
    "\n",
    "**Example call:**\n",
    "\n",
    "```python\n",
    "premium = calculate_premium(100000, 1.2, 0.05)\n",
    "print(f\"The premium is: {premium} Euros\")\n",
    "```"
   ]
  },
  {
   "cell_type": "code",
   "execution_count": null,
   "metadata": {},
   "outputs": [],
   "source": [
    "def calculate_premium(): # don't forget the arguments\n",
    "    pass "
   ]
  },
  {
   "cell_type": "code",
   "execution_count": null,
   "metadata": {},
   "outputs": [],
   "source": [
    "# Code for testing the function\n",
    "calculate_premium(100000, 1.2, 0.05) # Ausgabe: 6000"
   ]
  },
  {
   "cell_type": "markdown",
   "metadata": {},
   "source": [
    "## Task 2: Claim Evaluation\n",
    "\n",
    "Write a function `evaluate_claim` that evaluates a claim. The function should accept the following parameters:\n",
    "\n",
    "- `claim_amount`: The amount of the damage (in Euros)\n",
    "- `deductible`: The deductible (in Euros)\n",
    "\n",
    "The function should calculate the payout amount by subtracting the deductible from the claim amount (if the claim amount is greater than the deductible) and return this value. If the claim amount is less than or equal to the deductible, the function should return `0`.\n",
    "\n",
    "**Example call:**\n",
    "\n",
    "```python\n",
    "payout = evaluate_claim(1500, 300)\n",
    "print(f\"The payout amount is: {payout} Euros\")\n",
    "```"
   ]
  },
  {
   "cell_type": "code",
   "execution_count": null,
   "metadata": {},
   "outputs": [],
   "source": [
    "def evaluate_claim():\n",
    "    pass"
   ]
  },
  {
   "cell_type": "code",
   "execution_count": null,
   "metadata": {},
   "outputs": [],
   "source": [
    "# Code for testing\n",
    "print(evaluate_claim(1500, 300)) # Ausgabe 1200\n",
    "print(evaluate_claim(100, 300))  # Ausgabe 0"
   ]
  },
  {
   "cell_type": "markdown",
   "metadata": {},
   "source": [
    "## Task 3: Age-Dependent Premium Adjustment\n",
    "\n",
    "Write a function `adjust_premium_for_age` that adjusts the premium based on the age of the policyholder. The function should accept the following parameters:\n",
    "\n",
    "- `base_premium`: The base premium (in Euros)\n",
    "- `age`: The age of the policyholder\n",
    "\n",
    "The function should use the following logic to adjust the premium:\n",
    "\n",
    "- If the age is under 25 years, multiply the premium by 1.5.\n",
    "- If the age is between 25 and 50 years, the premium remains the same.\n",
    "- If the age is over 50 years, multiply the premium by 0.8.\n",
    "\n",
    "The function should return the adjusted premium.\n",
    "\n",
    "**Example Call:**\n",
    "\n",
    "```python\n",
    "adjusted_premium = adjust_premium_for_age(100, 60)\n",
    "print(f\"The adjusted premium is: {adjusted_premium} Euros\")\n",
    "```"
   ]
  },
  {
   "cell_type": "code",
   "execution_count": null,
   "metadata": {},
   "outputs": [],
   "source": [
    "def adjust_premium_for_age(base_premium, age):\n",
    "    pass "
   ]
  },
  {
   "cell_type": "code",
   "execution_count": null,
   "metadata": {},
   "outputs": [],
   "source": [
    "# Code for testing\n",
    "print(adjust_premium_for_age(100,23)) # 150\n",
    "print(adjust_premium_for_age(100,49)) # 100\n",
    "print(adjust_premium_for_age(100,50)) # 80"
   ]
  },
  {
   "cell_type": "markdown",
   "metadata": {},
   "source": [
    "# Functional Programming\n",
    "\n",
    "Functional programming is a paradigm that focuses on computing values using functions. In Python, there are many built-in functions and concepts that are well-suited for functional programming, such as map(), filter(), reduce(), List Comprehensions (coming soon), and generators (which we will not cover).\n",
    "\n",
    "Now let's take a look at anonymous functions (so-called lambda functions)."
   ]
  },
  {
   "cell_type": "markdown",
   "metadata": {},
   "source": [
    "# Lambda Functions\n",
    "\n",
    "Lambda functions are small anonymous functions that are particularly useful when you want to use a simple function only once."
   ]
  },
  {
   "cell_type": "code",
   "execution_count": null,
   "metadata": {},
   "outputs": [],
   "source": [
    "# example\n",
    "add = lambda x, y: x + y\n",
    "print(add(3, 5))\n",
    "\n"
   ]
  },
  {
   "cell_type": "code",
   "execution_count": null,
   "metadata": {},
   "outputs": [],
   "source": [
    "# Basisprämie und Risikofaktor\n",
    "sum_insured = 100000  # versicherte Summe in Euro\n",
    "risk_factor = 1.2     # Risikofaktor\n",
    "\n",
    "# Lambda-Funktion zur Berechnung der Prämie\n",
    "calculate_premium = lambda sum_insured, risk_factor: sum_insured * risk_factor * 0.05\n",
    "\n",
    "# Berechnung der Prämie\n",
    "premium = calculate_premium(sum_insured, risk_factor)\n",
    "print(f\"Die berechnete Prämie beträgt: {premium:.2f} Euro\")"
   ]
  },
  {
   "cell_type": "markdown",
   "metadata": {},
   "source": [
    "# Use of `import` in Python\n",
    "\n",
    "In Python, the command `import` allows you to include modules in your program. A module is a file that contains Python code and defines functions, classes, and variables. By importing modules, you can access the functions and classes defined in those modules without having to rewrite them yourself.\n",
    "\n",
    "## Importing an Entire Module\n",
    "\n",
    "You can import an entire module with the following command:\n",
    "\n",
    "```python\n",
    "import modulname\n",
    "```"
   ]
  },
  {
   "cell_type": "code",
   "execution_count": null,
   "metadata": {},
   "outputs": [],
   "source": [
    "import math\n",
    "\n",
    "# calculating the square root \n",
    "root = math.sqrt(16)\n",
    "print(f\"The sqare root is: {root}\")\n"
   ]
  },
  {
   "cell_type": "markdown",
   "metadata": {},
   "source": [
    "Every now and then, you may not want to import the entire module but only specific functions. This can be done using\n",
    "\n",
    "```python\n",
    "from modulname import function\n",
    "```"
   ]
  },
  {
   "cell_type": "code",
   "execution_count": null,
   "metadata": {},
   "outputs": [],
   "source": [
    "from math import sqrt\n",
    "\n",
    "# calculating the square root \n",
    "root = math.sqrt(25)\n",
    "print(f\"The sqare root is: {root}\")\n"
   ]
  },
  {
   "cell_type": "markdown",
   "metadata": {},
   "source": [
    "We will import many (significantly more powerful) modules/packages during the course of the event."
   ]
  },
  {
   "cell_type": "markdown",
   "metadata": {},
   "source": [
    "### Memory Management in Python\n",
    "\n",
    "Memory management in Python is largely automatic, thanks to a mechanism known as **Garbage Collection**. Nevertheless, there are some fundamental concepts that are important for understanding efficient work with memory resources.\n",
    "\n",
    "#### Important Concepts of Memory Management in Python\n",
    "\n",
    "1. **Memory Allocation**:\n",
    "    - When you assign a value to a variable, Python automatically creates an object in memory that contains this value, and the variable points to it.\n",
    "    - Python distinguishes between **mutable** (changeable) and **immutable** (unchangeable) objects:\n",
    "        - Mutable objects (like lists or dictionaries) can be modified after assignment.\n",
    "        - Immutable objects (like strings, tuples, and numbers) cannot be changed. For example, if you assign a new value to an existing variable, Python creates a new object and assigns the new memory address to the variable.\n",
    "\n",
    "2. **Reference Counting**:\n",
    "    - Python uses a **reference counting system** to track how many variables point to a specific object. When the count for an object drops to **0** (meaning there are no more references to it), the memory is automatically freed.\n",
    "\n",
    "3. **Garbage Collection**:\n",
    "    - Python has an automatic **Garbage Collection** that cleans up memory space that is no longer needed. It primarily relies on the reference counting system to decide when objects should be deleted.\n",
    "\n",
    "4. **Memory Release with `del`**:\n",
    "    - With the **`del` statement**, you can explicitly delete the reference to an object, which reduces its reference count. If there are no further references to the object, it is removed from memory."
   ]
  },
  {
   "cell_type": "code",
   "execution_count": null,
   "metadata": {},
   "outputs": [],
   "source": [
    "# Example 1: Mutable and Immutable Objects\n",
    "print(\"Mutable vs Immutable Objects\")\n",
    "\n",
    "# Immutable: Strings\n",
    "a = \"Hallo\"\n",
    "print(f\"Before change: a = {a} (ID: {id(a)})\")\n",
    "a = \"Welt\"  # A new object is created\n",
    "print(f\"After change: a = {a} (ID: {id(a)})\")\n",
    "\n",
    "# Mutable: Lists\n",
    "b = [1, 2, 3]\n",
    "print(f\"\\nBefore change: b = {b} (ID: {id(b)})\")\n",
    "b.append(4)  # The list is modified in memory\n",
    "print(f\"After change: b = {b} (ID: {id(b)})\")\n",
    "\n",
    "# Example 2: Reference counting and `del`\n",
    "print(\"\\nReference counting and memory management\")\n",
    "\n",
    "x = [1, 2, 3]\n",
    "y = x  # x and y refer to the same object\n",
    "print(f\"Reference count for x and y: {id(x)} == {id(y)}\")\n",
    "\n",
    "del x  # Deletes the reference x\n",
    "print(\"x deleted. Remaining access to the object via y:\", y)\n",
    "\n",
    "# Garbage collection occurs when no references remain\n"
   ]
  }
 ],
 "metadata": {
  "kernelspec": {
   "display_name": "Python 3",
   "language": "python",
   "name": "python3"
  },
  "language_info": {
   "codemirror_mode": {
    "name": "ipython",
    "version": 3
   },
   "file_extension": ".py",
   "mimetype": "text/x-python",
   "name": "python",
   "nbconvert_exporter": "python",
   "pygments_lexer": "ipython3",
   "version": "3.11.9"
  }
 },
 "nbformat": 4,
 "nbformat_minor": 2
}
