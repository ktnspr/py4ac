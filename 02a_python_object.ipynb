{
 "cells": [
  {
   "cell_type": "markdown",
   "metadata": {},
   "source": [
    "# Python for Actuaries Part 2\n",
    "[![Open In Colab](https://colab.research.google.com/assets/colab-badge.svg)](https://colab.research.google.com/github/DeutscheAktuarvereinigung/Python_fuer_Aktuare/blob/main/02a_python_object.ipynb) [![Kaggle](https://kaggle.com/static/images/open-in-kaggle.svg)](https://kaggle.com/kernels/welcome?src=https://github.com/DeutscheAktuarvereinigung/Python_fuer_Aktuare/blob/main/02a_python_object.ipynb)\n",
    "\n",
    "## Agenda\n",
    "In this notebook, we will cover:\n",
    "- Object-oriented programming\n",
    "    - Creating objects\n",
    "    - Attributes and functions of objects \n",
    "    - Inheritance of objects   \n",
    "\n",
    "So far, we have been programming procedurally; now we want to program in an object-oriented way. An object is an instance of a class. A **class** is a template or blueprint for objects. It defines what attributes (data) and methods (functions) an object will have. Once we have defined a class, we can create as many objects of that class as we want.\n",
    "\n",
    "You can think of classes somewhat like [Plato's Ideas](https://en.wikipedia.org/wiki/Theory_of_Forms). In the class, we describe the properties (*attributes*) that all objects of this class will have and specify what can be done with the objects (through the *methods*).\n",
    "\n",
    "A simple example from the real world would be a class Car:\n",
    "\n",
    "```plaintext\n",
    "+-------------------------+\n",
    "|        Car              |\n",
    "+-------------------------+\n",
    "| - brand: str            |\n",
    "| - model: str           |\n",
    "| - color: str            |         -> Attributes\n",
    "| - mileage: int          |\n",
    "+-------------------------+\n",
    "| + drive(km: int): void  |\n",
    "| + honk(): void          |         -> Methods\n",
    "+-------------------------+\n",
    "```\n",
    "\n",
    "But let's take a look at an example from the insurance industry:"
   ]
  },
  {
   "cell_type": "code",
   "execution_count": null,
   "metadata": {},
   "outputs": [],
   "source": [
    "class InsuranceContract:\n",
    "    def __init__(self, contract_number, insured_sum, holder): # sog. Konstruktor mit Attributen\n",
    "        self.contract_number = contract_number\n",
    "        self.insured_sum = insured_sum\n",
    "        self.holder = holder\n",
    "\n",
    "    def calculate_premium(self):\n",
    "        # very simple premium calculation\n",
    "        return self.insured_sum * 0.05"
   ]
  },
  {
   "cell_type": "markdown",
   "metadata": {},
   "source": [
    "Now we can create insurance contracts:"
   ]
  },
  {
   "cell_type": "code",
   "execution_count": null,
   "metadata": {},
   "outputs": [],
   "source": [
    "# create a new contract\n",
    "contract1 = InsuranceContract('12345', 100000, 'John Doe')\n",
    "contract2 = InsuranceContract('12346', 200000, 'Jane Smith')\n",
    "\n",
    "# accessing attributes\n",
    "print(f\"Contract number: {contract1.contract_number}\")\n",
    "print(f\"Insured sum: {contract1.insured_sum}\")\n",
    "print(f\"Policyholder: {contract1.holder}\")\n",
    "\n",
    "# calculating premium\n",
    "praemie1 = contract1.calculate_premium()\n",
    "print(f\"The calculated premium is: {praemie1:.2f} euros\")\n",
    "\n",
    "praemie2 = contract2.calculate_premium()\n",
    "print(f\"The calculated premium is: {praemie2:.2f} euros\")\n"
   ]
  },
  {
   "cell_type": "markdown",
   "metadata": {},
   "source": [
    "Through object-oriented programming, we can better organize and reuse our code. Especially in the insurance industry, where many similar contracts, policies, or claims need to be managed, we can benefit from OOP. Each contract, claim, or customer can be represented as an object, which simplifies management and calculation.\n",
    "\n",
    "### Side Note\n",
    "In Python, everything (EVERYTHING!) is an object. Thus, the base classes we have learned about so far are also objects:"
   ]
  },
  {
   "cell_type": "code",
   "execution_count": null,
   "metadata": {},
   "outputs": [],
   "source": [
    "def foo():\n",
    "    return \"bar\"\n",
    "\n",
    "\n",
    "print(type(42))           \n",
    "print(type(\"Hallo\"))      \n",
    "print(type(foo))"
   ]
  },
  {
   "cell_type": "markdown",
   "metadata": {},
   "source": [
    "Since everything is an object, you can work with all elements in a similar way in Python. Whether you are working with numbers, texts, or complex structures, each object has certain properties (attributes) and functions (methods) that you can use. We'll get to that shortly, but first:"
   ]
  },
  {
   "cell_type": "markdown",
   "metadata": {},
   "source": [
    "## Task: Create Class `InsuredPerson`\n",
    "\n",
    "Create a class `InsuredPerson` that serves to store and display basic information about an insured individual.\n",
    "\n",
    "### Requirements:\n",
    "\n",
    "1. The class `InsuredPerson` should have the following attributes:\n",
    "   - `name`: The name of the insured person (e.g., \"Anna Müller\")\n",
    "   - `date_of_birth`: The date of birth of the insured person (e.g., \"01.01.1980\")\n",
    "   - `address`: The address of the insured person (e.g., \"Musterstraße 1, 12345 Musterstadt\")\n",
    "   - `insurance_number`: A unique insurance number (e.g., \"VN123456\")\n",
    "\n",
    "2. The class should have a **constructor** (`__init__`) that assigns these attributes when creating an object.\n",
    "\n",
    "3. The class should have a method `show_contract_details()` that outputs the information about the insured person in a clear format.\n",
    "\n",
    "### Example:\n",
    "\n",
    "When you create an object of the class `InsuredPerson` with the data of an insured individual, calling the method `show_contract_details()` should produce the following output:\n",
    "\n",
    "```plaintext\n",
    "Insured Person: Anna Müller\n",
    "Date of Birth: 01.01.1980\n",
    "Address: Musterstraße 1, 12345 Musterstadt\n",
    "Insurance Number: VN123456\n",
    "```"
   ]
  },
  {
   "cell_type": "code",
   "execution_count": null,
   "metadata": {},
   "outputs": [],
   "source": [
    "class Policyholder:\n",
    "    def __init__(self, name, date_of_birth, address, policy_number):\n",
    "        pass\n",
    "\n",
    "    def display_contract_details(self):\n",
    "        pass\n",
    "\n"
   ]
  },
  {
   "cell_type": "markdown",
   "metadata": {},
   "source": [
    "Here you can test your code:"
   ]
  },
  {
   "cell_type": "code",
   "execution_count": null,
   "metadata": {},
   "outputs": [],
   "source": [
    "# Create a policyholder object\n",
    "customer1 = Policyholder(\"Max Mustermann\", \"15.05.1975\", \"Example Street 5, 54321 Example City\", \"PN987654\")\n",
    "\n",
    "# Call the method to display contract details\n",
    "customer1.display_contract_details()\n",
    "\n",
    "print(\"\\n---\\n\")  # Separator for better readability\n",
    "\n",
    "# Test another object\n",
    "customer2 = Policyholder(\"Julia Meier\", \"22.08.1990\", \"Sample Street 12, 65432 Sample City\", \"PN123321\")\n",
    "\n",
    "# Display contract details for the second object\n",
    "customer2.display_contract_details()\n"
   ]
  },
  {
   "cell_type": "markdown",
   "metadata": {},
   "source": [
    "## Introduction to Inheritance\n",
    "\n",
    "With object-oriented programming, we can already modularize and make large parts of our code reusable by working with classes and objects. By encapsulating properties and behaviors in a class, we can avoid redundant code fragments and improve maintainability.\n",
    "\n",
    "But object-oriented programming offers even more: **Inheritance** is a central concept that allows us to link classes together and establish relationships between them. With inheritance, we can define a general class from which specialized classes can be derived. This not only reduces effort but also creates a clearer structure.\n",
    "\n",
    "### Advantages of Inheritance:\n",
    "\n",
    "- **Code Reusability:** Common functionalities only need to be defined once in a base class. The derived classes automatically inherit this functionality.\n",
    "- **Extensibility:** New specialized classes can be easily created by inheriting from an existing class and adding additional functions or attributes as needed.\n",
    "- **Maintainability:** A clearly structured inheritance hierarchy makes the code more organized and easier to maintain.\n",
    "\n",
    "### Example: Inheritance with Policyholders\n",
    "\n",
    "Let’s imagine we want to manage not only policyholders in our system but also other types of individuals, such as brokers or agents. All have common attributes (e.g., name, date of birth, address), but also specific differences. Instead of redefining these properties and methods in each class, we can create a general class `Person` from which all the more specialized classes inherit.\n",
    "\n",
    "Let’s try this out:"
   ]
  },
  {
   "cell_type": "code",
   "execution_count": null,
   "metadata": {},
   "outputs": [],
   "source": [
    "class Person():\n",
    "    pass"
   ]
  },
  {
   "cell_type": "markdown",
   "metadata": {},
   "source": [
    "Now we want the class `Policyholder` to inherit from the class `Person`:"
   ]
  },
  {
   "cell_type": "code",
   "execution_count": null,
   "metadata": {},
   "outputs": [],
   "source": [
    "class Policyholder(Person): # that's inheritance"
   ]
  },
  {
   "cell_type": "markdown",
   "metadata": {},
   "source": [
    "## Special Class Methods\n",
    "\n",
    "We have already seen that there are special methods for classes in Python. In principle, every class should implement the following standard methods:\n",
    "\n",
    "```\n",
    "__init__() -> Constructor\n",
    "__repr__() -> a (technical) string representation of the object\n",
    "__str__() -> a (human-friendly) string representation of the object\n",
    "__eq__() -> allows two objects of the class to be checked for equality with \"==\"\n",
    "__hash__() -> returns a unique hash value for each instance\n",
    "```\n",
    "\n",
    "Other standard methods (which do not make sense for people) are:\n",
    "```\n",
    "__add__() -> add/concatenate two objects with \"+\"\n",
    "__subtract__() -> subtract two objects with \"-\"\n",
    "__getitem__(idx) -> index access returns the value at idx\n",
    "__setitem__(idx, value) -> sets the element at index idx to the value value\n",
    "__len__() -> returns the length of the object\n",
    "__del__() -> deletes the instance of the object\n",
    "__iter__() -> for iterating over the object\n",
    "```\n",
    "We will implement the first ones:"
   ]
  },
  {
   "cell_type": "code",
   "execution_count": null,
   "metadata": {},
   "outputs": [],
   "source": [
    "class Person:\n",
    "    def __init__(self, name, birth_date, adress):\n",
    "        self.name = name\n",
    "        self.birth_date = birth_date\n",
    "        self.adress = adress\n",
    "\n",
    "    def show_details(self):\n",
    "        print(f\"Name: {self.name}\")\n",
    "        print(f\"Birthday: {self.birth_date}\")\n",
    "        print(f\"Adress: {self.adress}\")\n",
    "\n",
    "    def __str__(self) -> str:\n",
    "        pass\n",
    "\n",
    "    def __repr__(self) -> str:\n",
    "        pass\n",
    "\n",
    "    def __eq__(self, value: object) -> bool:\n",
    "        pass\n",
    "\n",
    "    def __hash__(self) -> int:\n",
    "        pass"
   ]
  },
  {
   "cell_type": "markdown",
   "metadata": {},
   "source": [
    "## Task (Shapes)\n",
    "\n",
    "Create a class `shape` that stores the name of the shape as an attribute and has a method `area` that returns the string \"not yet implemented\".  \n",
    "Also, implement the functions `__repr__()` and `__str__()`."
   ]
  },
  {
   "cell_type": "code",
   "execution_count": null,
   "metadata": {},
   "outputs": [],
   "source": [
    "class Shape:\n",
    "    def __init__(self, name):\n",
    "        pass\n",
    "    \n",
    "    # Methode area\n",
    "\n",
    "    # repr\n",
    "\n",
    "    # str"
   ]
  },
  {
   "cell_type": "markdown",
   "metadata": {},
   "source": [
    "**Circle**\n",
    "\n",
    "Create a subclass `Circle` that inherits from `Shape`. Implement the constructor that sets the name of the shape to \"Circle\" and stores the radius. Override the method `area` to calculate the area of the circle. Also, implement a method `__eq__()` to compare two circles.\n",
    "\n",
    "Note: `math.pi` provides the value of $\\pi$."
   ]
  },
  {
   "cell_type": "code",
   "execution_count": null,
   "metadata": {},
   "outputs": [],
   "source": [
    "import math\n",
    "\n",
    "class Circle(Shape):\n",
    "    def __init__(self, radius):\n",
    "        pass\n",
    "    \n",
    "    def area(self):\n",
    "        pass\n",
    "\n",
    "    def __eq__(self, otherCircle):\n",
    "        pass"
   ]
  },
  {
   "cell_type": "code",
   "execution_count": null,
   "metadata": {},
   "outputs": [],
   "source": [
    "# Example usage:\n",
    "circle = Circle(5)\n",
    "print(circle.name)  \n",
    "print(circle.area())  # output: 78.53981633974483\n",
    "circle2 = Circle(6)\n",
    "circle3 = Circle(5)\n",
    "print(circle == circle2)\n",
    "print(circle == circle3)"
   ]
  },
  {
   "cell_type": "markdown",
   "metadata": {},
   "source": [
    "**Rectangle**\n",
    "\n",
    "Create a subclass Rectangle that inherits from Shape. Implement the constructor that sets the name and stores the width and height. Override the method `area` to calculate the area of the rectangle."
   ]
  },
  {
   "cell_type": "code",
   "execution_count": null,
   "metadata": {},
   "outputs": [],
   "source": [
    "class Rectangle(Shape):\n",
    "    def __init__(self, width, height):\n",
    "        pass\n",
    "    \n",
    "    def area(self):\n",
    "        pass"
   ]
  },
  {
   "cell_type": "code",
   "execution_count": null,
   "metadata": {},
   "outputs": [],
   "source": [
    "# Beispiel:\n",
    "rectangle = Rectangle(3, 5)\n",
    "print(rectangle.name)  # output: Rectangle\n",
    "print(rectangle.area())  # output: 15\n",
    "print(repr(rectangle))  # output: Rectangle('Rectangle')\n",
    "print(str(rectangle))   # output: RECTANGLE"
   ]
  },
  {
   "cell_type": "markdown",
   "metadata": {},
   "source": [
    "**Square**\n",
    "\n",
    "Create a subclass `Square` that inherits from `Rectangle`. Implement the constructor to store the side length and the name, and override the method `area` to calculate the area of the square. Also, create a method `__eq__()` to test two squares for equality."
   ]
  },
  {
   "cell_type": "code",
   "execution_count": null,
   "metadata": {},
   "outputs": [],
   "source": [
    "class Square(Rectangle):\n",
    "    def __init__(self, side_length):\n",
    "        pass\n",
    "    def __eq__(self, otherSquare):\n",
    "        pass"
   ]
  },
  {
   "cell_type": "code",
   "execution_count": null,
   "metadata": {},
   "outputs": [],
   "source": [
    "# Beispiel:\n",
    "square = Square(4)\n",
    "print(square.name)  # output: Square\n",
    "print(square.area())  # output: 16\n",
    "\n",
    "print(square == Square(3)) # False\n",
    "print(square == Square(4)) # True"
   ]
  }
 ],
 "metadata": {
  "kernelspec": {
   "display_name": "Python 3",
   "language": "python",
   "name": "python3"
  },
  "language_info": {
   "codemirror_mode": {
    "name": "ipython",
    "version": 3
   },
   "file_extension": ".py",
   "mimetype": "text/x-python",
   "name": "python",
   "nbconvert_exporter": "python",
   "pygments_lexer": "ipython3",
   "version": "3.11.9"
  }
 },
 "nbformat": 4,
 "nbformat_minor": 2
}
