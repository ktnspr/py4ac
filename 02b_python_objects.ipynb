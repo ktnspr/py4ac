{
 "cells": [
  {
   "cell_type": "markdown",
   "metadata": {},
   "source": [
    "# Python for Actuaries Part 2\n",
    "\n",
    "[![Open In Colab](https://colab.research.google.com/assets/colab-badge.svg)](https://colab.research.google.com/github/DeutscheAktuarvereinigung/Python_fuer_Aktuare/blob/main/02b_python_objects.ipynb) [![Kaggle](https://kaggle.com/static/images/open-in-kaggle.svg)](https://kaggle.com/kernels/welcome?src=https://github.com/DeutscheAktuarvereinigung/Python_fuer_Aktuare/blob/main/02b_python_objects.ipynb)\n",
    "## Agenda\n",
    "In this notebook, we will cover:\n",
    "- Strings\n",
    "- Lists\n",
    "- Sets\n",
    "- Dictionaries\n",
    "\n",
    "# Built-in Data Types in Python\n",
    "In addition to user-defined classes, Python offers a variety of **built-in data types** that are extremely useful in everyday programming. These data types are also based on classes, which means they have specific methods and properties that we can work with directly.\n",
    "\n",
    "The most important built-in data types include:\n",
    "- **Strings**: A sequence of characters that stores text.\n",
    "- **Lists**: An ordered collection of elements.\n",
    "- **Sets**: An unordered collection of unique elements.\n",
    "- **Dictionaries**: A collection of key-value pairs.\n",
    "\n",
    "These data types are predefined in Python and can be used directly without needing to create them ourselves. They are very flexible and allow us to efficiently solve many tasks.\n",
    "\n",
    "In the following sections, we will look at how these data types work and how we can use them in our programs."
   ]
  },
  {
   "cell_type": "markdown",
   "metadata": {},
   "source": [
    "## Strings\n",
    "The basic data types also include the type `string` for text variables."
   ]
  },
  {
   "cell_type": "code",
   "execution_count": null,
   "metadata": {},
   "outputs": [],
   "source": [
    "# whatever strings you want\n",
    "(\n",
    "    'hello world!',\n",
    "    \"hello world!\"\n",
    ")"
   ]
  },
  {
   "cell_type": "code",
   "execution_count": null,
   "metadata": {},
   "outputs": [],
   "source": [
    "# easy way to use single and double quotes\n",
    "print('she said, \"how are you?\"')\n",
    "print(\"that's right!\")"
   ]
  },
  {
   "cell_type": "code",
   "execution_count": null,
   "metadata": {},
   "outputs": [],
   "source": [
    "(\n",
    "    'hello' + ' ' + 'world',\n",
    "    'thinking... ' * 3,\n",
    "    '*' * 3\n",
    ")"
   ]
  },
  {
   "cell_type": "markdown",
   "metadata": {},
   "source": [
    "Strings belong to the *sequence* type; https://docs.python.org/3.5/library/stdtypes.html#typesseq\n",
    "\n",
    "This also includes: *ranges*, *tuples* (both immutable), and *lists* (mutable).\n",
    "\n",
    "All immutable sequences can perform the [common sequence operations](https://docs.python.org/3/library/stdtypes.html#common-sequence-operations), and mutable sequences can additionally perform the [mutable sequence operations](https://docs.python.org/3/library/stdtypes.html#mutable-sequence-types)."
   ]
  },
  {
   "cell_type": "code",
   "execution_count": null,
   "metadata": {},
   "outputs": [],
   "source": [
    "# indexing\n",
    "greeting = 'hello there'\n",
    "(\n",
    "    greeting[0],\n",
    "    greeting[6],\n",
    "    len(greeting),\n",
    "    greeting[len(greeting)-1]\n",
    ")"
   ]
  },
  {
   "cell_type": "code",
   "execution_count": null,
   "metadata": {},
   "outputs": [],
   "source": [
    "# negative indexes\n",
    "(\n",
    "    greeting[-1],\n",
    "    greeting[-2],\n",
    "    greeting[-len(greeting)]\n",
    ")"
   ]
  },
  {
   "cell_type": "code",
   "execution_count": null,
   "metadata": {},
   "outputs": [],
   "source": [
    "# \"slices\"\n",
    "greeting = 'hello there'\n",
    "(\n",
    "    greeting[0:11],\n",
    "    greeting[0:5],\n",
    "    greeting[6:11]\n",
    ")"
   ]
  },
  {
   "cell_type": "code",
   "execution_count": null,
   "metadata": {},
   "outputs": [],
   "source": [
    "# default slice ranges\n",
    "(\n",
    "    greeting[:11],\n",
    "    greeting[6:],\n",
    "    greeting[:]\n",
    ")"
   ]
  },
  {
   "cell_type": "code",
   "execution_count": null,
   "metadata": {},
   "outputs": [],
   "source": [
    "# slice \"steps\"\n",
    "(\n",
    "    greeting[0:11:2],\n",
    "    greeting[::3],\n",
    "    greeting[6:11:2]\n",
    ")"
   ]
  },
  {
   "cell_type": "code",
   "execution_count": null,
   "metadata": {},
   "outputs": [],
   "source": [
    "# negative steps\n",
    "greeting[::-1]"
   ]
  },
  {
   "cell_type": "code",
   "execution_count": null,
   "metadata": {},
   "outputs": [],
   "source": [
    "# other sequence ops\n",
    "greeting = 'hello there!'\n",
    "(\n",
    "    greeting.count('e'),\n",
    "    greeting.index('e'),\n",
    "    greeting.index('e', 2),\n",
    "    'e' in greeting,\n",
    "    'ü' not in greeting,\n",
    "    min(greeting),\n",
    "    max(greeting)\n",
    ")"
   ]
  },
  {
   "cell_type": "markdown",
   "metadata": {},
   "source": [
    "Strings also have a set of [type-specific methods](https://docs.python.org/3/library/stdtypes.html#string-methods)."
   ]
  },
  {
   "cell_type": "markdown",
   "metadata": {},
   "source": [
    "### Format Strings\n",
    "\n",
    "It is very easy to replace variables or expressions in strings; this is done with *format strings*."
   ]
  },
  {
   "cell_type": "code",
   "execution_count": null,
   "metadata": {},
   "outputs": [],
   "source": [
    "adjective = 'frigid'\n",
    "adverb = 'hastily'\n",
    "noun = 'Alfred'\n",
    "number = 8\n",
    "verb = 'eat'\n",
    "\n",
    "sentence = f'It was a {adjective} day when {noun} decided to {adverb} {verb} {number*100} lines of code.'\n",
    "\n",
    "print(sentence)"
   ]
  },
  {
   "cell_type": "markdown",
   "metadata": {},
   "source": [
    "There is also a specific method for it `format`:"
   ]
  },
  {
   "cell_type": "code",
   "execution_count": null,
   "metadata": {},
   "outputs": [],
   "source": [
    "sentence = 'It was a {} day when {} decided to {} {} {} lines of code.'.format(adjective, noun, adverb, verb, number*100)\n",
    "\n",
    "print(sentence)"
   ]
  },
  {
   "cell_type": "markdown",
   "metadata": {},
   "source": [
    "# Lists, Ranges, Dicts, and Sets\n",
    "\n",
    "In addition to the basic data types, the Python standard library includes several other very powerful data types.\n",
    "\n",
    "We start with **Ranges**.\n",
    "\n",
    "## Range\n",
    "\n",
    "A range is a span of numbers between a starting number, an ending number, and optionally a step size."
   ]
  },
  {
   "cell_type": "code",
   "execution_count": null,
   "metadata": {},
   "outputs": [],
   "source": [
    "r = range(10)\n",
    "\n",
    "for i in r:\n",
    "    print(i)"
   ]
  },
  {
   "cell_type": "code",
   "execution_count": null,
   "metadata": {},
   "outputs": [],
   "source": [
    "r = range(3,15)\n",
    "\n",
    "for i in r:\n",
    "    print(i)"
   ]
  },
  {
   "cell_type": "code",
   "execution_count": null,
   "metadata": {},
   "outputs": [],
   "source": [
    "r = range(1,1000,150)\n",
    "\n",
    "for i in r:\n",
    "    print(i)"
   ]
  },
  {
   "cell_type": "markdown",
   "metadata": {},
   "source": [
    "## Listen\n",
    "\n",
    "**Lists** are a very popular data type in Python because they are very versatile and easy to use. Nevertheless, they come with very powerful functionalities."
   ]
  },
  {
   "cell_type": "code",
   "execution_count": null,
   "metadata": {},
   "outputs": [],
   "source": [
    "l = [1,2,3,4,1]\n",
    "print(l)"
   ]
  },
  {
   "cell_type": "code",
   "execution_count": null,
   "metadata": {},
   "outputs": [],
   "source": [
    "# length of a list\n",
    "len(l)"
   ]
  },
  {
   "cell_type": "code",
   "execution_count": null,
   "metadata": {},
   "outputs": [],
   "source": [
    "# Indexing\n",
    "l[2]"
   ]
  },
  {
   "cell_type": "code",
   "execution_count": null,
   "metadata": {},
   "outputs": [],
   "source": [
    "# setting a value\n",
    "l[0] = \"Hello\"\n",
    "l"
   ]
  },
  {
   "cell_type": "code",
   "execution_count": null,
   "metadata": {},
   "outputs": [],
   "source": [
    "l = [\"Hello\"]\n",
    "l + [\"World\"]"
   ]
  },
  {
   "cell_type": "code",
   "execution_count": null,
   "metadata": {},
   "outputs": [],
   "source": [
    "l"
   ]
  },
  {
   "cell_type": "markdown",
   "metadata": {},
   "source": [
    "Lists of other things:"
   ]
  },
  {
   "cell_type": "code",
   "execution_count": null,
   "metadata": {},
   "outputs": [],
   "source": [
    "l = list(range(6))\n",
    "l"
   ]
  },
  {
   "cell_type": "code",
   "execution_count": null,
   "metadata": {},
   "outputs": [],
   "source": [
    "l = list(\"European Actuaries\")\n",
    "l"
   ]
  },
  {
   "cell_type": "code",
   "execution_count": null,
   "metadata": {},
   "outputs": [],
   "source": [
    "'I love Advanced Programming'.split()"
   ]
  },
  {
   "cell_type": "code",
   "execution_count": null,
   "metadata": {},
   "outputs": [],
   "source": [
    "'apples, bananas, cats, dogs'.split(',')"
   ]
  },
  {
   "cell_type": "code",
   "execution_count": null,
   "metadata": {},
   "outputs": [],
   "source": [
    "# also, strings from lists of strings\n",
    "'-'.join(['a', 'e', 'i', 'o', 'u'])"
   ]
  },
  {
   "cell_type": "code",
   "execution_count": null,
   "metadata": {},
   "outputs": [],
   "source": [
    "' 👏 '.join('this is a beautiful day'.split())"
   ]
  },
  {
   "cell_type": "markdown",
   "metadata": {},
   "source": [
    "#### Building Lists Simply (List Comprehension)"
   ]
  },
  {
   "cell_type": "code",
   "execution_count": null,
   "metadata": {},
   "outputs": [],
   "source": [
    "[x for x in range(10)]"
   ]
  },
  {
   "cell_type": "code",
   "execution_count": null,
   "metadata": {},
   "outputs": [],
   "source": [
    "adjs = ('hot', 'blue', 'quick')\n",
    "nouns = ('table', 'fox', 'sky')\n",
    "[adj + ' ' + noun for adj in adjs for noun in nouns]"
   ]
  },
  {
   "cell_type": "code",
   "execution_count": null,
   "metadata": {},
   "outputs": [],
   "source": [
    "# pythagorean triples\n",
    "n = 50\n",
    "[(a,b,c) for a in range(1,n) \n",
    "         for b in range(a,n) \n",
    "         for c in range(b,n) \n",
    "         if a**2 + b**2 == c**2]"
   ]
  },
  {
   "cell_type": "markdown",
   "metadata": {},
   "source": [
    "### Sets"
   ]
  },
  {
   "cell_type": "markdown",
   "metadata": {},
   "source": [
    "A [set](https://docs.python.org/3.7/library/stdtypes.html#set-types-set-frozenset) is a data structure that represents an *unordered* collection of unique elements. Just like a mathematical set."
   ]
  },
  {
   "cell_type": "code",
   "execution_count": null,
   "metadata": {},
   "outputs": [],
   "source": [
    "s = {1, 2, 1, 1, 2, 3, 3, 1}"
   ]
  },
  {
   "cell_type": "code",
   "execution_count": null,
   "metadata": {},
   "outputs": [],
   "source": [
    "s"
   ]
  },
  {
   "cell_type": "code",
   "execution_count": null,
   "metadata": {},
   "outputs": [],
   "source": [
    "t = {2, 3, 4, 5}"
   ]
  },
  {
   "cell_type": "code",
   "execution_count": null,
   "metadata": {},
   "outputs": [],
   "source": [
    "s.union(t)"
   ]
  },
  {
   "cell_type": "code",
   "execution_count": null,
   "metadata": {},
   "outputs": [],
   "source": [
    "s | t"
   ]
  },
  {
   "cell_type": "code",
   "execution_count": null,
   "metadata": {},
   "outputs": [],
   "source": [
    "s.difference(t)"
   ]
  },
  {
   "cell_type": "code",
   "execution_count": null,
   "metadata": {},
   "outputs": [],
   "source": [
    "s - t"
   ]
  },
  {
   "cell_type": "code",
   "execution_count": null,
   "metadata": {},
   "outputs": [],
   "source": [
    "s.intersection(t)"
   ]
  },
  {
   "cell_type": "code",
   "execution_count": null,
   "metadata": {},
   "outputs": [],
   "source": [
    "s & t"
   ]
  },
  {
   "cell_type": "markdown",
   "metadata": {},
   "source": [
    "### Dicts"
   ]
  },
  {
   "cell_type": "markdown",
   "metadata": {},
   "source": [
    "A [dictionary](https://docs.python.org/3/library/stdtypes.html#mapping-types-dict) is a data structure that consists of key-value pairs."
   ]
  },
  {
   "cell_type": "code",
   "execution_count": null,
   "metadata": {},
   "outputs": [],
   "source": [
    "d = {\n",
    "    'Superman':  'Clark Kent',\n",
    "    'Batman':    'Bruce Wayne',\n",
    "    'Spiderman': 'Peter Parker',\n",
    "    'Wonder Woman' : 'Diana Prince',\n",
    "    'Ironman':   'Tony Stark'\n",
    "}"
   ]
  },
  {
   "cell_type": "code",
   "execution_count": null,
   "metadata": {},
   "outputs": [],
   "source": [
    "d['Ironman']"
   ]
  },
  {
   "cell_type": "code",
   "execution_count": null,
   "metadata": {},
   "outputs": [],
   "source": [
    "d['Ironman'] = 'James Rhodes'"
   ]
  },
  {
   "cell_type": "code",
   "execution_count": null,
   "metadata": {},
   "outputs": [],
   "source": [
    "d"
   ]
  },
  {
   "cell_type": "code",
   "execution_count": null,
   "metadata": {},
   "outputs": [],
   "source": [
    "del d['Ironman']\n",
    "d"
   ]
  },
  {
   "cell_type": "code",
   "execution_count": null,
   "metadata": {},
   "outputs": [],
   "source": [
    "for k in d:\n",
    "    print(f'{k} => {d[k]}') "
   ]
  },
  {
   "cell_type": "code",
   "execution_count": null,
   "metadata": {},
   "outputs": [],
   "source": [
    "for k in d.keys():\n",
    "    print(f'{k} => {d[k]}')"
   ]
  },
  {
   "cell_type": "code",
   "execution_count": null,
   "metadata": {},
   "outputs": [],
   "source": [
    "for v in d.values():\n",
    "    print(v)"
   ]
  },
  {
   "cell_type": "code",
   "execution_count": null,
   "metadata": {},
   "outputs": [],
   "source": [
    "for k,v in d.items():\n",
    "    print(f'{k} => {v}')"
   ]
  },
  {
   "cell_type": "markdown",
   "metadata": {},
   "source": [
    "#### Dictionary comprehensions"
   ]
  },
  {
   "cell_type": "code",
   "execution_count": null,
   "metadata": {},
   "outputs": [],
   "source": [
    "{e:2**e for e in range(0,100,10)}"
   ]
  },
  {
   "cell_type": "code",
   "execution_count": null,
   "metadata": {},
   "outputs": [],
   "source": [
    "{x:y for x in range(3) for y in range(10)}"
   ]
  },
  {
   "cell_type": "markdown",
   "metadata": {},
   "source": [
    "# Tasks\n",
    "Please complete the following tasks."
   ]
  },
  {
   "cell_type": "markdown",
   "metadata": {},
   "source": [
    "## Task 1 (Palindrome Check)\n",
    "Write a program that checks whether a given string is a palindrome. A palindrome is a word or a sentence that reads the same forwards and backwards (spaces and case are ignored).\n",
    "\n",
    "Examples of palindromes:\n",
    "- Madam I m Adam\n",
    "- A man a plan a canal panama\n",
    "- Was it a car or a cat I saw"
   ]
  },
  {
   "cell_type": "code",
   "execution_count": null,
   "metadata": {},
   "outputs": [],
   "source": [
    "# Initialization\n",
    "text = \"Was it a car or a cat I saw\"\n",
    "\n",
    "# Palindrome check\n",
    "is_palindrome = False\n",
    "pass\n",
    "\n",
    "print(f\"'{text}' is a palindrome: {is_palindrome}\")"
   ]
  },
  {
   "cell_type": "markdown",
   "metadata": {},
   "source": [
    "## Task 2 (Square Numbers in a Range)\n",
    "\n",
    "Write a program that calculates the square numbers in a given range and outputs them as a list. Use list comprehension for this purpose."
   ]
  },
  {
   "cell_type": "code",
   "execution_count": null,
   "metadata": {},
   "outputs": [],
   "source": [
    "# Initialization\n",
    "start = 1\n",
    "end = 10\n",
    "\n",
    "# Calculate square numbers\n",
    "squares = None  # add a suitable list comprehension here\n",
    "\n",
    "print(squares)\n"
   ]
  },
  {
   "cell_type": "markdown",
   "metadata": {},
   "source": [
    "## Task 3 (Reading Hegel)\n",
    "In this task, we will read the [Phenomenology of Spirit](https://en.wikipedia.org/wiki/Phenomenology_of_Spirit) by Georg Wilhelm Friedrich Hegel. Fortunately, \"reading\" does not always mean \"understanding.\" \n",
    "Your task is to find out:\n",
    "- How many words did Hegel write?\n",
    "- How many unique words did Hegel write?\n",
    "- What is Hegel's most frequently used word?"
   ]
  },
  {
   "cell_type": "code",
   "execution_count": null,
   "metadata": {},
   "outputs": [],
   "source": [
    "# Run this cell to download the text of Hegel's \"The Philosophy of History\"\n",
    "import urllib.request\n",
    "\n",
    "hegel_url    = 'https://www.gutenberg.org/cache/epub/6698/pg6698.txt'\n",
    "pdg_text = urllib.request.urlopen(hegel_url).read().decode()"
   ]
  },
  {
   "cell_type": "markdown",
   "metadata": {},
   "source": [
    "Take a look at the text, for example, here is the first description of the Hegelian synthesis:"
   ]
  },
  {
   "cell_type": "code",
   "execution_count": null,
   "metadata": {},
   "outputs": [],
   "source": [
    "print(pdg_text[7837:8449])"
   ]
  },
  {
   "cell_type": "markdown",
   "metadata": {},
   "source": [
    "How do you get from the individual characters `pdg_text` to the words of the Phenomenology of Spirit? (*Note:* the split function might help.)"
   ]
  },
  {
   "cell_type": "code",
   "execution_count": null,
   "metadata": {},
   "outputs": [],
   "source": [
    "pdg_words = None # hier geeignet ergänzen\n",
    "len(pdg_words)"
   ]
  },
  {
   "cell_type": "markdown",
   "metadata": {},
   "source": [
    "And now to the unambiguous words?"
   ]
  },
  {
   "cell_type": "code",
   "execution_count": null,
   "metadata": {},
   "outputs": [],
   "source": [
    "pdg_words_unique = None\n",
    "len(pdg_words_unique)"
   ]
  },
  {
   "cell_type": "markdown",
   "metadata": {},
   "source": [
    "And now to the frequency of the individual words. How often was each word written? (*Note:* use a `dict`.)"
   ]
  },
  {
   "cell_type": "code",
   "execution_count": null,
   "metadata": {},
   "outputs": [],
   "source": [
    "pdg_word_count = {}\n",
    "\n",
    "for word in pdg_words:\n",
    "    pass \n"
   ]
  },
  {
   "cell_type": "code",
   "execution_count": null,
   "metadata": {},
   "outputs": [],
   "source": [
    "print(pdg_word_count)"
   ]
  },
  {
   "cell_type": "code",
   "execution_count": null,
   "metadata": {},
   "outputs": [],
   "source": [
    "(pdg_word_count[\"sein\"], pdg_word_count[\"dasein\"])"
   ]
  },
  {
   "cell_type": "markdown",
   "metadata": {},
   "source": [
    "Now you just need to sort the dictionary. That's a bit tricky:"
   ]
  },
  {
   "cell_type": "code",
   "execution_count": null,
   "metadata": {},
   "outputs": [],
   "source": [
    "pdg_word_count_sorted = sorted(pdg_word_count.items(), key=lambda t: t[1], reverse=True)\n",
    "pdg_word_count_sorted[:10]"
   ]
  }
 ],
 "metadata": {
  "kernelspec": {
   "display_name": "Python 3",
   "language": "python",
   "name": "python3"
  },
  "language_info": {
   "codemirror_mode": {
    "name": "ipython",
    "version": 3
   },
   "file_extension": ".py",
   "mimetype": "text/x-python",
   "name": "python",
   "nbconvert_exporter": "python",
   "pygments_lexer": "ipython3",
   "version": "3.11.9"
  }
 },
 "nbformat": 4,
 "nbformat_minor": 2
}
